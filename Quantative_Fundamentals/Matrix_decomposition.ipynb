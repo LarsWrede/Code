{
 "cells": [
  {
   "cell_type": "markdown",
   "source": [
    "# Matrix eigendecomposition"
   ],
   "metadata": {}
  },
  {
   "cell_type": "markdown",
   "source": [
    "For a given 2x2 matrix:"
   ],
   "metadata": {}
  },
  {
   "cell_type": "code",
   "execution_count": 2,
   "source": [
    "# Contributed by Yannik Suhre\r\n",
    "#### imports ####\r\n",
    "import numpy as np"
   ],
   "outputs": [],
   "metadata": {}
  },
  {
   "cell_type": "code",
   "execution_count": 3,
   "source": [
    "# define the matrix\r\n",
    "A = np.matrix(\"1 3; 2 2\")\r\n",
    "print(\"A: \\n\", A)"
   ],
   "outputs": [
    {
     "output_type": "stream",
     "name": "stdout",
     "text": [
      "A: \n",
      " [[1 3]\n",
      " [2 2]]\n"
     ]
    }
   ],
   "metadata": {}
  },
  {
   "cell_type": "code",
   "execution_count": 4,
   "source": [
    "# get the eigenvalues and eigenvectors\r\n",
    "eigenvalues, eigenvectors = np.linalg.eig(A)"
   ],
   "outputs": [],
   "metadata": {}
  },
  {
   "cell_type": "code",
   "execution_count": 5,
   "source": [
    "# Show values\r\n",
    "print(\"Eigenvalues: \", eigenvalues)\r\n",
    "print(\"Eigenvectors:\\n\", eigenvectors)"
   ],
   "outputs": [
    {
     "output_type": "stream",
     "name": "stdout",
     "text": [
      "Eigenvalues:  [-1.  4.]\n",
      "Eigenvectors:\n",
      " [[-0.83205029 -0.70710678]\n",
      " [ 0.5547002  -0.70710678]]\n"
     ]
    }
   ],
   "metadata": {}
  },
  {
   "cell_type": "code",
   "execution_count": 5,
   "source": [
    "# create the diagonal matrix of \\Lambda\r\n",
    "Lambda = np.diag(eigenvalues)\r\n",
    "print(Lambda)"
   ],
   "outputs": [
    {
     "output_type": "stream",
     "name": "stdout",
     "text": [
      "[[ 7.63324958  0.        ]\n",
      " [ 0.         -5.63324958]]\n"
     ]
    }
   ],
   "metadata": {}
  },
  {
   "cell_type": "code",
   "execution_count": 6,
   "source": [
    "# create S the matrix of eigenvectors\r\n",
    "S = eigenvectors\r\n",
    "print(S)"
   ],
   "outputs": [
    {
     "output_type": "stream",
     "name": "stdout",
     "text": [
      "[[ 0.83525687 -0.35209031]\n",
      " [ 0.54985995  0.93596603]]\n"
     ]
    }
   ],
   "metadata": {}
  },
  {
   "cell_type": "code",
   "execution_count": 7,
   "source": [
    "# check and confirm the decomposition\r\n",
    "A_ = np.matmul(np.matmul(S,Lambda), np.linalg.inv(S))\r\n",
    "print(\"Computing A with decomposed elements:\\n\", A_)"
   ],
   "outputs": [
    {
     "output_type": "stream",
     "name": "stdout",
     "text": [
      "Computing A with decomposed elements:\n",
      " [[ 5.  4.]\n",
      " [ 7. -3.]]\n"
     ]
    }
   ],
   "metadata": {}
  },
  {
   "cell_type": "markdown",
   "source": [
    "For a random matrix:"
   ],
   "metadata": {}
  },
  {
   "cell_type": "code",
   "execution_count": 8,
   "source": [
    "# define a random square matrix\r\n",
    "N = 4\r\n",
    "A = np.random.randint(10, size=(N, N))\r\n",
    "print(\"A: \\n\", A)"
   ],
   "outputs": [
    {
     "output_type": "stream",
     "name": "stdout",
     "text": [
      "A: \n",
      " [[2 5 1 3]\n",
      " [3 0 8 7]\n",
      " [0 4 8 6]\n",
      " [9 9 1 0]]\n"
     ]
    }
   ],
   "metadata": {}
  },
  {
   "cell_type": "code",
   "execution_count": 9,
   "source": [
    "# Eigendecomposition\r\n",
    "eigenvalues, eigenvectors = np.linalg.eig(A)"
   ],
   "outputs": [],
   "metadata": {}
  },
  {
   "cell_type": "code",
   "execution_count": 10,
   "source": [
    "# Show values\r\n",
    "print(\"Eigenvalues:\\n\", eigenvalues)\r\n",
    "print(\"Eigenvectors:\\n\", eigenvectors)"
   ],
   "outputs": [
    {
     "output_type": "stream",
     "name": "stdout",
     "text": [
      "Eigenvalues:\n",
      " [16.82529884  3.50989325 -3.55795783 -6.77723427]\n",
      "Eigenvectors:\n",
      " [[-0.3250812   0.39717524 -0.60238306  0.15606045]\n",
      " [-0.5458321  -0.09103172  0.44710622 -0.67894007]\n",
      " [-0.58786915 -0.70100399 -0.41990162 -0.10441087]\n",
      " [-0.50079876  0.58528494  0.51079673  0.70977735]]\n"
     ]
    }
   ],
   "metadata": {}
  },
  {
   "cell_type": "code",
   "execution_count": 11,
   "source": [
    "# create the diagonal matrix of \\Lambda\r\n",
    "Lambda = np.diag(eigenvalues)\r\n",
    "print(Lambda)"
   ],
   "outputs": [
    {
     "output_type": "stream",
     "name": "stdout",
     "text": [
      "[[16.82529884  0.          0.          0.        ]\n",
      " [ 0.          3.50989325  0.          0.        ]\n",
      " [ 0.          0.         -3.55795783  0.        ]\n",
      " [ 0.          0.          0.         -6.77723427]]\n"
     ]
    }
   ],
   "metadata": {}
  },
  {
   "cell_type": "code",
   "execution_count": 12,
   "source": [
    "# create S the matrix of eigenvectors\r\n",
    "S = eigenvectors\r\n",
    "print(S)"
   ],
   "outputs": [
    {
     "output_type": "stream",
     "name": "stdout",
     "text": [
      "[[-0.3250812   0.39717524 -0.60238306  0.15606045]\n",
      " [-0.5458321  -0.09103172  0.44710622 -0.67894007]\n",
      " [-0.58786915 -0.70100399 -0.41990162 -0.10441087]\n",
      " [-0.50079876  0.58528494  0.51079673  0.70977735]]\n"
     ]
    }
   ],
   "metadata": {}
  },
  {
   "cell_type": "code",
   "execution_count": 13,
   "source": [
    "# check and confirm the decomposition\r\n",
    "A_ = np.matmul(np.matmul(S,Lambda), np.linalg.inv(S))\r\n",
    "print(\"Computing A with decomposed elements:\\n\", A_)"
   ],
   "outputs": [
    {
     "output_type": "stream",
     "name": "stdout",
     "text": [
      "Computing A with decomposed elements:\n",
      " [[ 2.00000000e+00  5.00000000e+00  1.00000000e+00  3.00000000e+00]\n",
      " [ 3.00000000e+00 -2.72685832e-15  8.00000000e+00  7.00000000e+00]\n",
      " [ 5.71524084e-15  4.00000000e+00  8.00000000e+00  6.00000000e+00]\n",
      " [ 9.00000000e+00  9.00000000e+00  1.00000000e+00 -1.80199101e-15]]\n"
     ]
    }
   ],
   "metadata": {}
  }
 ],
 "metadata": {
  "kernelspec": {
   "name": "python3",
   "display_name": "Python 3.8.8 64-bit ('base': conda)"
  },
  "language_info": {
   "codemirror_mode": {
    "name": "ipython",
    "version": 3
   },
   "file_extension": ".py",
   "mimetype": "text/x-python",
   "name": "python",
   "nbconvert_exporter": "python",
   "pygments_lexer": "ipython3",
   "version": "3.8.8"
  },
  "interpreter": {
   "hash": "ed225720166559e7176d3793db16a2fd8d295f725007103b21ac3099d2a89ee8"
  }
 },
 "nbformat": 4,
 "nbformat_minor": 4
}