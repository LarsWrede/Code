{
 "cells": [
  {
   "cell_type": "markdown",
   "metadata": {},
   "source": [
    "# Matrix eigendecomposition"
   ]
  },
  {
   "cell_type": "markdown",
   "metadata": {},
   "source": [
    "For a given 2x2 matrix:"
   ]
  },
  {
   "cell_type": "code",
   "execution_count": 1,
   "metadata": {},
   "outputs": [],
   "source": [
    "# Contributed by Yannik Suhre\n",
    "#### imports ####\n",
    "import numpy as np"
   ]
  },
  {
   "cell_type": "code",
   "execution_count": 2,
   "metadata": {},
   "outputs": [
    {
     "name": "stdout",
     "output_type": "stream",
     "text": [
      "A: \n",
      " [[ 5  4]\n",
      " [ 7 -3]]\n"
     ]
    }
   ],
   "source": [
    "# define the matrix\n",
    "A = np.matrix(\"5 4; 7 -3\")\n",
    "print(\"A: \\n\", A)"
   ]
  },
  {
   "cell_type": "code",
   "execution_count": 3,
   "metadata": {},
   "outputs": [],
   "source": [
    "# get the eigenvalues and eigenvectors\n",
    "eigenvalues, eigenvectors = np.linalg.eig(A)"
   ]
  },
  {
   "cell_type": "code",
   "execution_count": 4,
   "metadata": {},
   "outputs": [
    {
     "name": "stdout",
     "output_type": "stream",
     "text": [
      "Eigenvalues:  [ 7.63324958 -5.63324958]\n",
      "Eigenvectors:\n",
      " [[ 0.83525687 -0.35209031]\n",
      " [ 0.54985995  0.93596603]]\n"
     ]
    }
   ],
   "source": [
    "# Show values\n",
    "print(\"Eigenvalues: \", eigenvalues)\n",
    "print(\"Eigenvectors:\\n\", eigenvectors)"
   ]
  },
  {
   "cell_type": "code",
   "execution_count": 5,
   "metadata": {},
   "outputs": [
    {
     "name": "stdout",
     "output_type": "stream",
     "text": [
      "[[ 7.63324958  0.        ]\n",
      " [ 0.         -5.63324958]]\n"
     ]
    }
   ],
   "source": [
    "# create the diagonal matrix of \\Lambda\n",
    "Lambda = np.diag(eigenvalues)\n",
    "print(Lambda)"
   ]
  },
  {
   "cell_type": "code",
   "execution_count": 6,
   "metadata": {},
   "outputs": [
    {
     "name": "stdout",
     "output_type": "stream",
     "text": [
      "[[ 0.83525687 -0.35209031]\n",
      " [ 0.54985995  0.93596603]]\n"
     ]
    }
   ],
   "source": [
    "# create S the matrix of eigenvectors\n",
    "S = eigenvectors\n",
    "print(S)"
   ]
  },
  {
   "cell_type": "code",
   "execution_count": 7,
   "metadata": {},
   "outputs": [
    {
     "name": "stdout",
     "output_type": "stream",
     "text": [
      "Computing A with decomposed elements:\n",
      " [[ 5.  4.]\n",
      " [ 7. -3.]]\n"
     ]
    }
   ],
   "source": [
    "# check and confirm the decomposition\n",
    "A_ = np.matmul(np.matmul(S,Lambda), np.linalg.inv(S))\n",
    "print(\"Computing A with decomposed elements:\\n\", A_)"
   ]
  },
  {
   "cell_type": "markdown",
   "metadata": {},
   "source": [
    "For a random matrix:"
   ]
  },
  {
   "cell_type": "code",
   "execution_count": 8,
   "metadata": {},
   "outputs": [
    {
     "name": "stdout",
     "output_type": "stream",
     "text": [
      "A: \n",
      " [[2 5 1 3]\n",
      " [3 0 8 7]\n",
      " [0 4 8 6]\n",
      " [9 9 1 0]]\n"
     ]
    }
   ],
   "source": [
    "# define a random square matrix\n",
    "N = 4\n",
    "A = np.random.randint(10, size=(N, N))\n",
    "print(\"A: \\n\", A)"
   ]
  },
  {
   "cell_type": "code",
   "execution_count": 9,
   "metadata": {},
   "outputs": [],
   "source": [
    "# Eigendecomposition\n",
    "eigenvalues, eigenvectors = np.linalg.eig(A)"
   ]
  },
  {
   "cell_type": "code",
   "execution_count": 10,
   "metadata": {},
   "outputs": [
    {
     "name": "stdout",
     "output_type": "stream",
     "text": [
      "Eigenvalues:\n",
      " [16.82529884  3.50989325 -3.55795783 -6.77723427]\n",
      "Eigenvectors:\n",
      " [[-0.3250812   0.39717524 -0.60238306  0.15606045]\n",
      " [-0.5458321  -0.09103172  0.44710622 -0.67894007]\n",
      " [-0.58786915 -0.70100399 -0.41990162 -0.10441087]\n",
      " [-0.50079876  0.58528494  0.51079673  0.70977735]]\n"
     ]
    }
   ],
   "source": [
    "# Show values\n",
    "print(\"Eigenvalues:\\n\", eigenvalues)\n",
    "print(\"Eigenvectors:\\n\", eigenvectors)"
   ]
  },
  {
   "cell_type": "code",
   "execution_count": 11,
   "metadata": {},
   "outputs": [
    {
     "name": "stdout",
     "output_type": "stream",
     "text": [
      "[[16.82529884  0.          0.          0.        ]\n",
      " [ 0.          3.50989325  0.          0.        ]\n",
      " [ 0.          0.         -3.55795783  0.        ]\n",
      " [ 0.          0.          0.         -6.77723427]]\n"
     ]
    }
   ],
   "source": [
    "# create the diagonal matrix of \\Lambda\n",
    "Lambda = np.diag(eigenvalues)\n",
    "print(Lambda)"
   ]
  },
  {
   "cell_type": "code",
   "execution_count": 12,
   "metadata": {},
   "outputs": [
    {
     "name": "stdout",
     "output_type": "stream",
     "text": [
      "[[-0.3250812   0.39717524 -0.60238306  0.15606045]\n",
      " [-0.5458321  -0.09103172  0.44710622 -0.67894007]\n",
      " [-0.58786915 -0.70100399 -0.41990162 -0.10441087]\n",
      " [-0.50079876  0.58528494  0.51079673  0.70977735]]\n"
     ]
    }
   ],
   "source": [
    "# create S the matrix of eigenvectors\n",
    "S = eigenvectors\n",
    "print(S)"
   ]
  },
  {
   "cell_type": "code",
   "execution_count": 13,
   "metadata": {},
   "outputs": [
    {
     "name": "stdout",
     "output_type": "stream",
     "text": [
      "Computing A with decomposed elements:\n",
      " [[ 2.00000000e+00  5.00000000e+00  1.00000000e+00  3.00000000e+00]\n",
      " [ 3.00000000e+00 -2.72685832e-15  8.00000000e+00  7.00000000e+00]\n",
      " [ 5.71524084e-15  4.00000000e+00  8.00000000e+00  6.00000000e+00]\n",
      " [ 9.00000000e+00  9.00000000e+00  1.00000000e+00 -1.80199101e-15]]\n"
     ]
    }
   ],
   "source": [
    "# check and confirm the decomposition\n",
    "A_ = np.matmul(np.matmul(S,Lambda), np.linalg.inv(S))\n",
    "print(\"Computing A with decomposed elements:\\n\", A_)"
   ]
  }
 ],
 "metadata": {
  "kernelspec": {
   "display_name": "Python 3",
   "language": "python",
   "name": "python3"
  },
  "language_info": {
   "codemirror_mode": {
    "name": "ipython",
    "version": 3
   },
   "file_extension": ".py",
   "mimetype": "text/x-python",
   "name": "python",
   "nbconvert_exporter": "python",
   "pygments_lexer": "ipython3",
   "version": "3.6.5"
  }
 },
 "nbformat": 4,
 "nbformat_minor": 4
}
