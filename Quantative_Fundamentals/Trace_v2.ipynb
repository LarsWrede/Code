{
 "cells": [
  {
   "cell_type": "code",
   "execution_count": 1,
   "source": [
    "# Cooperation: Jan and Yannik\r\n",
    "import numpy as np\r\n",
    "import math\r\n",
    "import scipy.linalg\r\n",
    "from sympy import Matrix"
   ],
   "outputs": [],
   "metadata": {}
  },
  {
   "cell_type": "code",
   "execution_count": 2,
   "source": [
    "# define a random square matrix\r\n",
    "N = 3\r\n",
    "A = np.random.randint(4, size=(N, N))\r\n",
    "print(\"A: \\n\", A)"
   ],
   "outputs": [
    {
     "output_type": "stream",
     "name": "stdout",
     "text": [
      "A: \n",
      " [[1 3 2]\n",
      " [3 3 3]\n",
      " [2 3 2]]\n"
     ]
    }
   ],
   "metadata": {}
  },
  {
   "cell_type": "markdown",
   "source": [
    "One precondition for $det(e^\\underline{\\underline{A}})=e^{tr(\\underline{\\underline{A}})}$ to hold, is that the matrix $\\underline{\\underline{A}}$ is diagonalizable, meaning non-defective. Lets check this."
   ],
   "metadata": {}
  },
  {
   "cell_type": "code",
   "execution_count": 3,
   "source": [
    "if Matrix(A).is_diagonalizable():\r\n",
    "    print(\"Matrix A is diagonalizable!\")\r\n",
    "else:\r\n",
    "    raise(NameError(\"Matrix A is not diagonalizable!\"))"
   ],
   "outputs": [
    {
     "output_type": "stream",
     "name": "stdout",
     "text": [
      "Matrix A is diagonalizable!\n"
     ]
    }
   ],
   "metadata": {}
  },
  {
   "cell_type": "markdown",
   "source": [
    "Let us check out how long it does in average take to calculate $e^{tr(\\underline{\\underline{A}})}$."
   ],
   "metadata": {}
  },
  {
   "cell_type": "code",
   "execution_count": 4,
   "source": [
    "%%timeit\r\n",
    "math.e**np.trace(A)"
   ],
   "outputs": [
    {
     "output_type": "stream",
     "name": "stdout",
     "text": [
      "6.69 µs ± 188 ns per loop (mean ± std. dev. of 7 runs, 100000 loops each)\n"
     ]
    }
   ],
   "metadata": {}
  },
  {
   "cell_type": "markdown",
   "source": [
    "Next how long it does take to calculate $det(e^{\\underline{\\underline{A}}})$."
   ],
   "metadata": {}
  },
  {
   "cell_type": "code",
   "execution_count": 5,
   "source": [
    "%%timeit\r\n",
    "np.linalg.det(scipy.linalg.expm(A))"
   ],
   "outputs": [
    {
     "output_type": "stream",
     "name": "stdout",
     "text": [
      "297 µs ± 4.1 µs per loop (mean ± std. dev. of 7 runs, 1000 loops each)\n"
     ]
    }
   ],
   "metadata": {}
  },
  {
   "cell_type": "markdown",
   "source": [
    "As we can see, it takes, for this use case, around 50 times as long to calculate the $det(e^\\underline{\\underline{A}})$.\n",
    "\n",
    "Lastly, let us check, whether both numbers are the same."
   ],
   "metadata": {}
  },
  {
   "cell_type": "code",
   "execution_count": 7,
   "source": [
    "round(math.e**np.trace(A), 4) == round(np.linalg.det(scipy.linalg.expm(A)), 4)"
   ],
   "outputs": [
    {
     "output_type": "execute_result",
     "data": {
      "text/plain": [
       "True"
      ]
     },
     "metadata": {},
     "execution_count": 7
    }
   ],
   "metadata": {}
  },
  {
   "cell_type": "markdown",
   "source": [
    "They are the same. So, we numerically demonstrated, that $det(e^\\underline{\\underline{A}})=e^{tr(\\underline{\\underline{A}})}$."
   ],
   "metadata": {}
  }
 ],
 "metadata": {
  "kernelspec": {
   "display_name": "Python 3",
   "language": "python",
   "name": "python3"
  },
  "language_info": {
   "codemirror_mode": {
    "name": "ipython",
    "version": 3
   },
   "file_extension": ".py",
   "mimetype": "text/x-python",
   "name": "python",
   "nbconvert_exporter": "python",
   "pygments_lexer": "ipython3",
   "version": "3.6.5"
  }
 },
 "nbformat": 4,
 "nbformat_minor": 4
}