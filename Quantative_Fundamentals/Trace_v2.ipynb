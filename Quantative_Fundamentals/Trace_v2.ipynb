{
 "cells": [
  {
   "cell_type": "code",
   "execution_count": 1,
   "metadata": {},
   "outputs": [],
   "source": [
    "# Cooperation: Jan and Yannik\n",
    "import numpy as np\n",
    "import math\n",
    "import scipy.linalg\n",
    "from sympy import Matrix"
   ]
  },
  {
   "cell_type": "code",
   "execution_count": 2,
   "metadata": {},
   "outputs": [
    {
     "name": "stdout",
     "output_type": "stream",
     "text": [
      "A: \n",
      " [[1 3 2]\n",
      " [3 3 3]\n",
      " [2 3 2]]\n"
     ]
    }
   ],
   "source": [
    "# define a random square matrix\n",
    "N = 3\n",
    "A = np.random.randint(4, size=(N, N))\n",
    "print(\"A: \\n\", A)"
   ]
  },
  {
   "cell_type": "markdown",
   "metadata": {},
   "source": [
    "One precondition for $det(e^\\underline{\\underline{A}})=e^{tr(\\underline{\\underline{A}})}$ to hold, is that the matrix $\\underline{\\underline{A}}$ is diagonalizable, meaning non-defective. Lets check this."
   ]
  },
  {
   "cell_type": "code",
   "execution_count": 3,
   "metadata": {},
   "outputs": [
    {
     "name": "stdout",
     "output_type": "stream",
     "text": [
      "Matrix A is diagonalizable!\n"
     ]
    }
   ],
   "source": [
    "if Matrix(A).is_diagonalizable():\n",
    "    print(\"Matrix A is diagonalizable!\")\n",
    "else:\n",
    "    raise(NameError(\"Matrix A is not diagonalizable!\"))"
   ]
  },
  {
   "cell_type": "markdown",
   "metadata": {},
   "source": [
    "Let us check out how long it does in average take to calculate $e^{tr(\\underline{\\underline{A}})}$."
   ]
  },
  {
   "cell_type": "code",
   "execution_count": 4,
   "metadata": {},
   "outputs": [
    {
     "name": "stdout",
     "output_type": "stream",
     "text": [
      "6.69 µs ± 188 ns per loop (mean ± std. dev. of 7 runs, 100000 loops each)\n"
     ]
    }
   ],
   "source": [
    "%%timeit\n",
    "math.e**np.trace(A)"
   ]
  },
  {
   "cell_type": "markdown",
   "metadata": {},
   "source": [
    "Next how long it does take to calculate $det(e^{\\underline{\\underline{A}}})$."
   ]
  },
  {
   "cell_type": "code",
   "execution_count": 5,
   "metadata": {},
   "outputs": [
    {
     "name": "stdout",
     "output_type": "stream",
     "text": [
      "297 µs ± 4.1 µs per loop (mean ± std. dev. of 7 runs, 1000 loops each)\n"
     ]
    }
   ],
   "source": [
    "%%timeit\n",
    "np.linalg.det(scipy.linalg.expm(A))"
   ]
  },
  {
   "cell_type": "markdown",
   "metadata": {},
   "source": [
    "As we can see, it takes, for this use case, around 50 times as long to calculate the $det(e^\\underline{\\underline{A}})$.\n",
    "\n",
    "Lastly, let us check, whether both numbers are the same."
   ]
  },
  {
   "cell_type": "code",
   "execution_count": 7,
   "metadata": {},
   "outputs": [
    {
     "data": {
      "text/plain": [
       "True"
      ]
     },
     "execution_count": 7,
     "metadata": {},
     "output_type": "execute_result"
    }
   ],
   "source": [
    "round(math.e**np.trace(A), 4) == round(np.linalg.det(scipy.linalg.expm(A)), 4)"
   ]
  },
  {
   "cell_type": "markdown",
   "metadata": {},
   "source": [
    "They are the same. So, we numerically demonstrated, that $det(e^\\underline{\\underline{A}})=e^{tr(\\underline{\\underline{A}})}$."
   ]
  },
  {
   "cell_type": "code",
   "execution_count": null,
   "metadata": {},
   "outputs": [],
   "source": []
  },
  {
   "cell_type": "code",
   "execution_count": null,
   "metadata": {},
   "outputs": [],
   "source": []
  }
 ],
 "metadata": {
  "kernelspec": {
   "display_name": "Python 3",
   "language": "python",
   "name": "python3"
  },
  "language_info": {
   "codemirror_mode": {
    "name": "ipython",
    "version": 3
   },
   "file_extension": ".py",
   "mimetype": "text/x-python",
   "name": "python",
   "nbconvert_exporter": "python",
   "pygments_lexer": "ipython3",
   "version": "3.6.5"
  }
 },
 "nbformat": 4,
 "nbformat_minor": 4
}
